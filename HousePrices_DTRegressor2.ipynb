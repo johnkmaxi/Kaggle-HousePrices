{
 "cells": [
  {
   "cell_type": "code",
   "execution_count": 1,
   "metadata": {
    "collapsed": false
   },
   "outputs": [
    {
     "name": "stderr",
     "output_type": "stream",
     "text": [
      "C:\\Users\\jmaxi.LSUMC-MASTER\\AppData\\Local\\Continuum\\Anaconda\\lib\\site-packages\\IPython\\html.py:14: ShimWarning: The `IPython.html` package has been deprecated. You should import from `notebook` instead. `IPython.html.widgets` has moved to `ipywidgets`.\n",
      "  \"`IPython.html.widgets` has moved to `ipywidgets`.\", ShimWarning)\n",
      "C:\\Users\\jmaxi.LSUMC-MASTER\\AppData\\Local\\Continuum\\Anaconda\\lib\\site-packages\\sklearn\\cross_validation.py:44: DeprecationWarning: This module was deprecated in version 0.18 in favor of the model_selection module into which all the refactored classes and functions are moved. Also note that the interface of the new CV iterators are different from that of this module. This module will be removed in 0.20.\n",
      "  \"This module will be removed in 0.20.\", DeprecationWarning)\n",
      "C:\\Users\\jmaxi.LSUMC-MASTER\\AppData\\Local\\Continuum\\Anaconda\\lib\\site-packages\\sklearn\\learning_curve.py:23: DeprecationWarning: This module was deprecated in version 0.18 in favor of the model_selection module into which all the functions are moved. This module will be removed in 0.20\n",
      "  DeprecationWarning)\n"
     ]
    }
   ],
   "source": [
    "# load in the libraries we will use\n",
    "import pandas as pd\n",
    "import numpy as np\n",
    "from sklearn.tree import DecisionTreeRegressor\n",
    "from sklearn.model_selection import GridSearchCV\n",
    "import matplotlib.pyplot as plt\n",
    "import seaborn as sns\n",
    "from sklearn.model_selection import train_test_split\n",
    "from sklearn.model_selection import ShuffleSplit\n",
    "from sklearn.metrics import make_scorer\n",
    "from sklearn.metrics import r2_score\n",
    "import visuals as vs\n",
    "%matplotlib inline"
   ]
  },
  {
   "cell_type": "code",
   "execution_count": 2,
   "metadata": {
    "collapsed": false
   },
   "outputs": [
    {
     "name": "stdout",
     "output_type": "stream",
     "text": [
      "1460\n",
      "1459\n"
     ]
    }
   ],
   "source": [
    "train = pd.read_csv('houseTrain.csv')\n",
    "test = pd.read_csv('houseTest.csv')\n",
    "print len(train)\n",
    "print len(test)"
   ]
  },
  {
   "cell_type": "code",
   "execution_count": 3,
   "metadata": {
    "collapsed": false
   },
   "outputs": [],
   "source": [
    "# First split the training data into the features and the target\n",
    "features = train.drop(['Id', 'SalePrice'], axis=1)\n",
    "target = train.SalePrice"
   ]
  },
  {
   "cell_type": "code",
   "execution_count": 4,
   "metadata": {
    "collapsed": false
   },
   "outputs": [
    {
     "name": "stdout",
     "output_type": "stream",
     "text": [
      "79\n"
     ]
    }
   ],
   "source": [
    "# How many features are there?\n",
    "print len(features.columns.values)"
   ]
  },
  {
   "cell_type": "code",
   "execution_count": 5,
   "metadata": {
    "collapsed": false
   },
   "outputs": [],
   "source": [
    "# Which columns are missing values?\n",
    "nan_columns = features.columns[pd.isnull(features).any()].tolist()"
   ]
  },
  {
   "cell_type": "code",
   "execution_count": 6,
   "metadata": {
    "collapsed": false
   },
   "outputs": [
    {
     "name": "stdout",
     "output_type": "stream",
     "text": [
      "LotFrontage: 259 float64\n",
      "Alley: 1369 object\n",
      "MasVnrType: 8 object\n",
      "MasVnrArea: 8 float64\n",
      "BsmtQual: 37 object\n",
      "BsmtCond: 37 object\n",
      "BsmtExposure: 38 object\n",
      "BsmtFinType1: 37 object\n",
      "BsmtFinType2: 38 object\n",
      "Electrical: 1 object\n",
      "FireplaceQu: 690 object\n",
      "GarageType: 81 object\n",
      "GarageYrBlt: 81 float64\n",
      "GarageFinish: 81 object\n",
      "GarageQual: 81 object\n",
      "GarageCond: 81 object\n",
      "PoolQC: 1453 object\n",
      "Fence: 1179 object\n",
      "MiscFeature: 1406 object\n"
     ]
    }
   ],
   "source": [
    "for i in nan_columns:\n",
    "    print '{0}: {1} {2}'.format(i, features[i].isnull().sum(), features[i].dtypes)"
   ]
  },
  {
   "cell_type": "code",
   "execution_count": 7,
   "metadata": {
    "collapsed": true
   },
   "outputs": [],
   "source": [
    "# Let's turn the above into a function\n",
    "def missing_data_info(df):\n",
    "    '''\n",
    "    Takes: a pandas dataframe which is checked for missing data in the columns. Uses any() method to check for \n",
    "           missing data.\n",
    "           \n",
    "    Returns: prints out the name of columns with missing data, the number of missing values, and the dtype of the column\n",
    "             and returns a dictionary of the printed data in the form column_name: [#_missing_values, col_dtype]'''\n",
    "    nan_columns = df.columns[pd.isnull(df).any()].tolist()\n",
    "    nan_dict = {}\n",
    "    for i in nan_columns:\n",
    "        print '{0}: {1} {2}'.format(i, df[i].isnull().sum(), features[i].dtypes)\n",
    "        nan_dict[i] = [df[i].isnull().sum(), features[i].dtypes]\n",
    "    return nan_dict"
   ]
  },
  {
   "cell_type": "code",
   "execution_count": 8,
   "metadata": {
    "collapsed": false
   },
   "outputs": [],
   "source": [
    "# The Alley, FireplaceQu, PoolQC, Fence, MiscFeatures objects should be dropped\n",
    "variables_to_drop = ['Alley', 'FireplaceQu', 'PoolQC', 'Fence', 'MiscFeature']"
   ]
  },
  {
   "cell_type": "code",
   "execution_count": 9,
   "metadata": {
    "collapsed": false
   },
   "outputs": [],
   "source": [
    "def graph_mean_on_scatter(df, x_name, y_name):\n",
    "    '''\n",
    "    Input:\n",
    "            df: the pandas data frame the data is contained in\n",
    "            x_name: the name of the df column to plot on the x-axis\n",
    "            y_name: the name of the df column to plot on the y-axis\n",
    "    Dependencies: \n",
    "            import seaborn as sns\n",
    "            import numpy as np\n",
    "            import matplotlib.pyplot as plt\n",
    "    Returns: \n",
    "            A regplot which has any missing values plotted separately in order to evaluate the usefullness of \n",
    "            substituting in the mean for the missing data.'''\n",
    "    missing = pd.DataFrame(data=df[x_name][df[x_name].isnull()], columns=[x_name])\n",
    "    missing[y_name] = df[y_name][df[x_name].isnull()]\n",
    "    missing[x_name].fillna(value=np.nanmean(df[x_name]), inplace=True)\n",
    "    \n",
    "    sns.regplot(x=x_name, y=y_name, data=df)\n",
    "    plt.plot(missing[x_name], missing[y_name], 's')\n",
    "    plt.show()\n",
    "    return"
   ]
  },
  {
   "cell_type": "code",
   "execution_count": 10,
   "metadata": {
    "collapsed": false
   },
   "outputs": [
    {
     "data": {
      "image/png": "[encoded data removed]",
      "text/plain": [
       "<matplotlib.figure.Figure at 0x3a472b0>"
      ]
     },
     "metadata": {},
     "output_type": "display_data"
    }
   ],
   "source": [
    "# Now need to decide how to fill the missing values from the remaining factors\n",
    "# Let's start with LotFrontage\n",
    "graph_mean_on_scatter(train, 'LotFrontage', 'SalePrice')"
   ]
  },
  {
   "cell_type": "code",
   "execution_count": 11,
   "metadata": {
    "collapsed": false
   },
   "outputs": [
    {
     "name": "stdout",
     "output_type": "stream",
     "text": [
      "Alley: 1369 object\n",
      "MasVnrType: 8 object\n",
      "MasVnrArea: 8 float64\n",
      "BsmtQual: 37 object\n",
      "BsmtCond: 37 object\n",
      "BsmtExposure: 38 object\n",
      "BsmtFinType1: 37 object\n",
      "BsmtFinType2: 38 object\n",
      "Electrical: 1 object\n",
      "FireplaceQu: 690 object\n",
      "GarageType: 81 object\n",
      "GarageYrBlt: 81 float64\n",
      "GarageFinish: 81 object\n",
      "GarageQual: 81 object\n",
      "GarageCond: 81 object\n",
      "PoolQC: 1453 object\n",
      "Fence: 1179 object\n",
      "MiscFeature: 1406 object\n"
     ]
    },
    {
     "data": {
      "text/plain": [
       "{'Alley': [1369, dtype('O')],\n",
       " 'BsmtCond': [37, dtype('O')],\n",
       " 'BsmtExposure': [38, dtype('O')],\n",
       " 'BsmtFinType1': [37, dtype('O')],\n",
       " 'BsmtFinType2': [38, dtype('O')],\n",
       " 'BsmtQual': [37, dtype('O')],\n",
       " 'Electrical': [1, dtype('O')],\n",
       " 'Fence': [1179, dtype('O')],\n",
       " 'FireplaceQu': [690, dtype('O')],\n",
       " 'GarageCond': [81, dtype('O')],\n",
       " 'GarageFinish': [81, dtype('O')],\n",
       " 'GarageQual': [81, dtype('O')],\n",
       " 'GarageType': [81, dtype('O')],\n",
       " 'GarageYrBlt': [81, dtype('float64')],\n",
       " 'MasVnrArea': [8, dtype('float64')],\n",
       " 'MasVnrType': [8, dtype('O')],\n",
       " 'MiscFeature': [1406, dtype('O')],\n",
       " 'PoolQC': [1453, dtype('O')]}"
      ]
     },
     "execution_count": 11,
     "metadata": {},
     "output_type": "execute_result"
    }
   ],
   "source": [
    "# The mean LotFrontage values fit right in with the rest of the data. Let's fill in the missing data using these values\n",
    "mean_LotFrontage = np.nanmean(features.LotFrontage)\n",
    "features.LotFrontage.fillna(value=mean_LotFrontage, inplace=True)\n",
    "\n",
    "# check that LotFrontage column isn't missing any daya\n",
    "missing_data_info(features)\n",
    "\n",
    "#success!"
   ]
  },
  {
   "cell_type": "code",
   "execution_count": 12,
   "metadata": {
    "collapsed": false
   },
   "outputs": [
    {
     "data": {
      "image/png": "[encoded data removed]",
      "text/plain": [
       "<matplotlib.figure.Figure at 0xbde9748>"
      ]
     },
     "metadata": {},
     "output_type": "display_data"
    }
   ],
   "source": [
    "# Let's try the same strategy above for MasVnrArea which is the Masonry Veneer Area\n",
    "graph_mean_on_scatter(train, 'MasVnrArea', 'SalePrice')"
   ]
  },
  {
   "cell_type": "code",
   "execution_count": 13,
   "metadata": {
    "collapsed": true
   },
   "outputs": [],
   "source": [
    "# I'm going to use the mean value to fill the missing data\n",
    "mean_MasVnrArea = np.nanmean(features.MasVnrArea)\n",
    "features.MasVnrArea.fillna(value=mean_MasVnrArea, inplace=True)"
   ]
  },
  {
   "cell_type": "code",
   "execution_count": 14,
   "metadata": {
    "collapsed": false
   },
   "outputs": [
    {
     "data": {
      "image/png": "[encoded data removed]",
      "text/plain": [
       "<matplotlib.figure.Figure at 0xc01de10>"
      ]
     },
     "metadata": {},
     "output_type": "display_data"
    }
   ],
   "source": [
    "# Look at how using the mean value works for GarageYrBlt\n",
    "graph_mean_on_scatter(train, 'GarageYrBlt', 'SalePrice')"
   ]
  },
  {
   "cell_type": "code",
   "execution_count": 15,
   "metadata": {
    "collapsed": false
   },
   "outputs": [
    {
     "data": {
      "image/png": "[encoded data removed]",
      "text/plain": [
       "<matplotlib.figure.Figure at 0xc1b9278>"
      ]
     },
     "metadata": {},
     "output_type": "display_data"
    }
   ],
   "source": [
    "# I don't like that so much of imputed data is weighted down below the trend line. \n",
    "# It might be that the value for GarageYrBlt doens't exists is because there is no garage! \n",
    "# Looking back at the number of values of missing data for the garage features,\n",
    "# there are an equal number of missing features. This would suggest that those homes don't have a garage.\n",
    "# And in fact, the same pattern is true for the basement features. \n",
    "# We can test this hypothesis by looking at the comparison between GarageYrBlt and YearBlt\n",
    "graph_mean_on_scatter(train, 'GarageYrBlt', 'YearBuilt')"
   ]
  },
  {
   "cell_type": "code",
   "execution_count": 16,
   "metadata": {
    "collapsed": false
   },
   "outputs": [],
   "source": [
    "# Looks like most of the garages were built when the house was built, so this likely isn't going to add much information\n",
    "# I'll add the garage features to the variables_to_drop list\n",
    "variables_to_drop.extend(['GarageType', 'GarageYrBlt', 'GarageFinish', 'GarageQual', 'GarageCond'])"
   ]
  },
  {
   "cell_type": "code",
   "execution_count": 17,
   "metadata": {
    "collapsed": false
   },
   "outputs": [
    {
     "name": "stdout",
     "output_type": "stream",
     "text": [
      "MasVnrType: 8 object\n",
      "BsmtQual: 37 object\n",
      "BsmtCond: 37 object\n",
      "BsmtExposure: 38 object\n",
      "BsmtFinType1: 37 object\n",
      "BsmtFinType2: 38 object\n",
      "Electrical: 1 object\n"
     ]
    },
    {
     "data": {
      "text/plain": [
       "{'BsmtCond': [37, dtype('O')],\n",
       " 'BsmtExposure': [38, dtype('O')],\n",
       " 'BsmtFinType1': [37, dtype('O')],\n",
       " 'BsmtFinType2': [38, dtype('O')],\n",
       " 'BsmtQual': [37, dtype('O')],\n",
       " 'Electrical': [1, dtype('O')],\n",
       " 'MasVnrType': [8, dtype('O')]}"
      ]
     },
     "execution_count": 17,
     "metadata": {},
     "output_type": "execute_result"
    }
   ],
   "source": [
    "features.drop(variables_to_drop, axis=1, inplace=True)\n",
    "missing_data_info(features)"
   ]
  },
  {
   "cell_type": "code",
   "execution_count": 18,
   "metadata": {
    "collapsed": false
   },
   "outputs": [
    {
     "data": {
      "text/plain": [
       "<matplotlib.axes._subplots.AxesSubplot at 0xc427748>"
      ]
     },
     "execution_count": 18,
     "metadata": {},
     "output_type": "execute_result"
    },
    {
     "data": {
      "image/png": "[encoded data removed]",
      "text/plain": [
       "<matplotlib.figure.Figure at 0xc327b00>"
      ]
     },
     "metadata": {},
     "output_type": "display_data"
    }
   ],
   "source": [
    "# Let's look through the remaining columns that are missing data points. These are all categorical variables\n",
    "# We'll start with MasVnrType\n",
    "sns.boxplot(x='MasVnrType', y='SalePrice', data=train)\n",
    "sns.stripplot(x=\"MasVnrType\", y=\"SalePrice\", data=train,\n",
    "              size=2, jitter=True, edgecolor=\"gray\", alpha=0.5)\n",
    "# The BrkFace veneer type looks like it is right in the middle. Since we used the mean values to for the \n",
    "# MasVnrArea, I'll use BrkFace as the \"mean\" value to use as the replacement for this feaure"
   ]
  },
  {
   "cell_type": "code",
   "execution_count": 19,
   "metadata": {
    "collapsed": true
   },
   "outputs": [],
   "source": [
    "features.MasVnrType.fillna(value='BrkFace', inplace=True)"
   ]
  },
  {
   "cell_type": "markdown",
   "metadata": {},
   "source": [
    "### Basement Condition\n",
    "The BsmtCond feature documentation says that NA values mean there is no basement. I want to see if it shows up as a factor"
   ]
  },
  {
   "cell_type": "code",
   "execution_count": 20,
   "metadata": {
    "collapsed": false
   },
   "outputs": [
    {
     "data": {
      "text/plain": [
       "<matplotlib.axes._subplots.AxesSubplot at 0xc347630>"
      ]
     },
     "execution_count": 20,
     "metadata": {},
     "output_type": "execute_result"
    },
    {
     "data": {
      "image/png": "[encoded data removed]",
      "text/plain": [
       "<matplotlib.figure.Figure at 0xc5c22b0>"
      ]
     },
     "metadata": {},
     "output_type": "display_data"
    }
   ],
   "source": [
    "sns.boxplot(x='BsmtCond', y='SalePrice', data=train)\n",
    "sns.stripplot(x='BsmtCond', y='SalePrice', data=train, size=2, jitter=True, edgecolor=\"gray\", alpha=0.5)"
   ]
  },
  {
   "cell_type": "code",
   "execution_count": 21,
   "metadata": {
    "collapsed": false
   },
   "outputs": [],
   "source": [
    "# Since 'Na' string in the basement features doesn't count as a category, I'm going to replace the Na values with the\n",
    "# string 'None'\n",
    "for i in ['BsmtCond', 'BsmtExposure', 'BsmtFinType1', 'BsmtFinType2', 'BsmtQual']:\n",
    "    features.loc[:,i].fillna(value='NoBsmt', inplace=True)"
   ]
  },
  {
   "cell_type": "code",
   "execution_count": 22,
   "metadata": {
    "collapsed": false
   },
   "outputs": [
    {
     "name": "stdout",
     "output_type": "stream",
     "text": [
      "Electrical: 1 object\n"
     ]
    },
    {
     "data": {
      "text/plain": [
       "{'Electrical': [1, dtype('O')]}"
      ]
     },
     "execution_count": 22,
     "metadata": {},
     "output_type": "execute_result"
    }
   ],
   "source": [
    "missing_data_info(features)"
   ]
  },
  {
   "cell_type": "code",
   "execution_count": 23,
   "metadata": {
    "collapsed": false
   },
   "outputs": [
    {
     "data": {
      "text/plain": [
       "1379    167500\n",
       "Name: SalePrice, dtype: int64"
      ]
     },
     "execution_count": 23,
     "metadata": {},
     "output_type": "execute_result"
    },
    {
     "data": {
      "image/png": "[encoded data removed]",
      "text/plain": [
       "<matplotlib.figure.Figure at 0xc5c26d8>"
      ]
     },
     "metadata": {},
     "output_type": "display_data"
    }
   ],
   "source": [
    "# only 1 feature left with null values! This feature ranks the circuit breaker/fuse box quality of the house\n",
    "# let's take a look at it\n",
    "sns.boxplot(x='Electrical', y='SalePrice', data=train)\n",
    "sns.stripplot(x='Electrical', y='SalePrice', data=train, size = 2, jitter=True, alpha=0.5)\n",
    "train.SalePrice[train.Electrical.isnull()]"
   ]
  },
  {
   "cell_type": "code",
   "execution_count": 24,
   "metadata": {
    "collapsed": false
   },
   "outputs": [
    {
     "data": {
      "text/plain": [
       "{}"
      ]
     },
     "execution_count": 24,
     "metadata": {},
     "output_type": "execute_result"
    }
   ],
   "source": [
    "# Since so many of the values are SBrkr and the price of the house missing the data is pretty close to the median of\n",
    "# the SBrkr values, I'm going to assign the missing value to SBrkr\n",
    "features.Electrical.fillna(value=\"SBrkr\", inplace=True)\n",
    "\n",
    "#and check that it worked\n",
    "missing_data_info(features)"
   ]
  },
  {
   "cell_type": "code",
   "execution_count": 25,
   "metadata": {
    "collapsed": false
   },
   "outputs": [],
   "source": [
    "# success! That was a good pratice of investigating and filling missing features. Now I will use just the numeric\n",
    "# data to train a DecisionTreeRegressor model and make another submission\n",
    "# Ben Hamner: \"The best data scientists rapidly iterate.\"\n",
    "numerics = ['int16', 'int32', 'int64', 'float16', 'float32', 'float64']\n",
    "\n",
    "numeric_features = features.select_dtypes(include=numerics)"
   ]
  },
  {
   "cell_type": "code",
   "execution_count": 26,
   "metadata": {
    "collapsed": false
   },
   "outputs": [
    {
     "data": {
      "image/png": "[encoded data removed]",
      "text/plain": [
       "<matplotlib.figure.Figure at 0xbc0ac18>"
      ]
     },
     "metadata": {},
     "output_type": "display_data"
    }
   ],
   "source": [
    "vs.ModelLearning(numeric_features, target)"
   ]
  },
  {
   "cell_type": "code",
   "execution_count": 27,
   "metadata": {
    "collapsed": false
   },
   "outputs": [
    {
     "data": {
      "image/png": "[encoded data removed]",
      "text/plain": [
       "<matplotlib.figure.Figure at 0xbf557f0>"
      ]
     },
     "metadata": {},
     "output_type": "display_data"
    }
   ],
   "source": [
    "vs.ModelComplexity(numeric_features, target)"
   ]
  },
  {
   "cell_type": "code",
   "execution_count": 28,
   "metadata": {
    "collapsed": false
   },
   "outputs": [
    {
     "data": {
      "text/plain": [
       "DecisionTreeRegressor(criterion='mse', max_depth=7, max_features=None,\n",
       "           max_leaf_nodes=None, min_impurity_split=1e-07,\n",
       "           min_samples_leaf=1, min_samples_split=2,\n",
       "           min_weight_fraction_leaf=0.0, presort=False, random_state=None,\n",
       "           splitter='best')"
      ]
     },
     "execution_count": 28,
     "metadata": {},
     "output_type": "execute_result"
    }
   ],
   "source": [
    "# I'm going with a max depth of 7\n",
    "reg = DecisionTreeRegressor(max_depth = 7)\n",
    "reg.fit(numeric_features, target)"
   ]
  },
  {
   "cell_type": "code",
   "execution_count": 29,
   "metadata": {
    "collapsed": false
   },
   "outputs": [
    {
     "name": "stderr",
     "output_type": "stream",
     "text": [
      "C:\\Users\\jmaxi.LSUMC-MASTER\\AppData\\Local\\Continuum\\Anaconda\\lib\\site-packages\\ipykernel\\__main__.py:4: SettingWithCopyWarning: \n",
      "A value is trying to be set on a copy of a slice from a DataFrame\n",
      "\n",
      "See the caveats in the documentation: http://pandas.pydata.org/pandas-docs/stable/indexing.html#indexing-view-versus-copy\n"
     ]
    }
   ],
   "source": [
    "# prepare the test data\n",
    "test.drop(variables_to_drop, axis=1, inplace=True)\n",
    "numeric_test_features = test.select_dtypes(include=numerics)\n",
    "numeric_test_features.drop('Id', axis=1, inplace=True)"
   ]
  },
  {
   "cell_type": "code",
   "execution_count": 30,
   "metadata": {
    "collapsed": false
   },
   "outputs": [
    {
     "name": "stdout",
     "output_type": "stream",
     "text": [
      "LotFrontage: 227 float64\n",
      "MasVnrArea: 15 float64\n",
      "BsmtFinSF1: 1 int64\n",
      "BsmtFinSF2: 1 int64\n",
      "BsmtUnfSF: 1 int64\n",
      "TotalBsmtSF: 1 int64\n",
      "BsmtFullBath: 2 int64\n",
      "BsmtHalfBath: 2 int64\n",
      "GarageCars: 1 int64\n",
      "GarageArea: 1 int64\n"
     ]
    },
    {
     "name": "stderr",
     "output_type": "stream",
     "text": [
      "C:\\Users\\jmaxi.LSUMC-MASTER\\AppData\\Local\\Continuum\\Anaconda\\lib\\site-packages\\pandas\\core\\generic.py:3191: SettingWithCopyWarning: \n",
      "A value is trying to be set on a copy of a slice from a DataFrame\n",
      "\n",
      "See the caveats in the documentation: http://pandas.pydata.org/pandas-docs/stable/indexing.html#indexing-view-versus-copy\n",
      "  self._update_inplace(new_data)\n"
     ]
    },
    {
     "data": {
      "text/plain": [
       "{}"
      ]
     },
     "execution_count": 30,
     "metadata": {},
     "output_type": "execute_result"
    }
   ],
   "source": [
    "# need to impute the missing data\n",
    "the_missing_test_data = missing_data_info(numeric_test_features)\n",
    "for k in the_missing_test_data.keys():\n",
    "    numeric_test_features[k].fillna(value=np.nanmean(numeric_test_features[k]), inplace=True)\n",
    "missing_data_info(numeric_test_features)"
   ]
  },
  {
   "cell_type": "code",
   "execution_count": 31,
   "metadata": {
    "collapsed": false
   },
   "outputs": [
    {
     "name": "stdout",
     "output_type": "stream",
     "text": [
      "1459\n",
      "1459\n",
      "          SalePrice\n",
      "Id                 \n",
      "1461  133041.653846\n",
      "1462  142368.333333\n",
      "1463  193060.000000\n",
      "1464  170276.356061\n",
      "1465  194311.636364\n"
     ]
    }
   ],
   "source": [
    "# No missing data points in the test set so:\n",
    "DTRegressor = reg.predict(numeric_test_features)\n",
    "print len(DTRegressor)\n",
    "test_id = test.Id\n",
    "print len(test_id)\n",
    "DTR_submission = pd.DataFrame(data=DTRegressor, index=test_id, columns=['SalePrice'])\n",
    "print DTR_submission.head()\n",
    "DTR_submission.to_csv('DTR_submission3.csv')"
   ]
  },
  {
   "cell_type": "code",
   "execution_count": 32,
   "metadata": {
    "collapsed": true
   },
   "outputs": [],
   "source": [
    "def performance_metric(y_true, y_predict):\n",
    "    \"\"\" Calculates and returns the performance score between \n",
    "        true and predicted values based on the metric chosen. \"\"\"\n",
    "    \n",
    "    # TODO: Calculate the performance score between 'y_true' and 'y_predict'\n",
    "    score = r2_score(y_true, y_predict)\n",
    "    \n",
    "    # Return the score\n",
    "    return score"
   ]
  },
  {
   "cell_type": "code",
   "execution_count": 33,
   "metadata": {
    "collapsed": false
   },
   "outputs": [
    {
     "data": {
      "text/plain": [
       "GridSearchCV(cv=None, error_score='raise',\n",
       "       estimator=DecisionTreeRegressor(criterion='mse', max_depth=None, max_features=None,\n",
       "           max_leaf_nodes=None, min_impurity_split=1e-07,\n",
       "           min_samples_leaf=1, min_samples_split=2,\n",
       "           min_weight_fraction_leaf=0.0, presort=False, random_state=None,\n",
       "           splitter='best'),\n",
       "       fit_params={}, iid=True, n_jobs=1,\n",
       "       param_grid={'min_samples_split': [2, 5, 10, 15, 18, 20, 23, 25, 28, 30, 40, 50, 100], 'max_depth': [1, 3, 6, 10, 20], 'min_samples_leaf': [1, 5, 10, 12, 15, 17, 20, 40]},\n",
       "       pre_dispatch='2*n_jobs', refit=True, return_train_score=True,\n",
       "       scoring=None, verbose=0)"
      ]
     },
     "execution_count": 33,
     "metadata": {},
     "output_type": "execute_result"
    }
   ],
   "source": [
    "# this was worse than the first model!\n",
    "# Let's do hyperparameter tuning\n",
    "# split the data into training and testing\n",
    "X_train, X_test, y_train, y_test = train_test_split(numeric_features, target, test_size = 0.2, random_state=0)\n",
    "# make the scorer\n",
    "r2_scorer = make_scorer(performance_metric)\n",
    "parameters = {'max_depth':[1,3,6,10,20], 'min_samples_split':[2,5,10,15,18,20,23,25,28,30,40,50,100], \n",
    "              'min_samples_leaf':[1,5,10,12,15,17,20,40]}\n",
    "reg = DecisionTreeRegressor()\n",
    "clf = GridSearchCV(reg, parameters)\n",
    "clf.fit(X_train, y_train)"
   ]
  },
  {
   "cell_type": "code",
   "execution_count": 34,
   "metadata": {
    "collapsed": false
   },
   "outputs": [
    {
     "data": {
      "text/plain": [
       "0.7583286341793033"
      ]
     },
     "execution_count": 34,
     "metadata": {},
     "output_type": "execute_result"
    }
   ],
   "source": [
    "clf.best_score_"
   ]
  },
  {
   "cell_type": "code",
   "execution_count": 35,
   "metadata": {
    "collapsed": false
   },
   "outputs": [
    {
     "data": {
      "text/plain": [
       "{'max_depth': 20, 'min_samples_leaf': 12, 'min_samples_split': 30}"
      ]
     },
     "execution_count": 35,
     "metadata": {},
     "output_type": "execute_result"
    }
   ],
   "source": [
    "clf.best_params_"
   ]
  },
  {
   "cell_type": "code",
   "execution_count": 36,
   "metadata": {
    "collapsed": false
   },
   "outputs": [],
   "source": [
    "GS_results = pd.DataFrame(clf.cv_results_).sort_values('mean_test_score', axis=0, ascending=False)"
   ]
  },
  {
   "cell_type": "code",
   "execution_count": 37,
   "metadata": {
    "collapsed": false
   },
   "outputs": [
    {
     "data": {
      "text/html": [
       "<div>\n",
       "<table border=\"1\" class=\"dataframe\">\n",
       "  <thead>\n",
       "    <tr style=\"text-align: right;\">\n",
       "      <th></th>\n",
       "      <th>mean_fit_time</th>\n",
       "      <th>mean_score_time</th>\n",
       "      <th>mean_test_score</th>\n",
       "      <th>mean_train_score</th>\n",
       "      <th>param_max_depth</th>\n",
       "      <th>param_min_samples_leaf</th>\n",
       "      <th>param_min_samples_split</th>\n",
       "      <th>params</th>\n",
       "      <th>rank_test_score</th>\n",
       "      <th>split0_test_score</th>\n",
       "      <th>split0_train_score</th>\n",
       "      <th>split1_test_score</th>\n",
       "      <th>split1_train_score</th>\n",
       "      <th>split2_test_score</th>\n",
       "      <th>split2_train_score</th>\n",
       "      <th>std_fit_time</th>\n",
       "      <th>std_score_time</th>\n",
       "      <th>std_test_score</th>\n",
       "      <th>std_train_score</th>\n",
       "    </tr>\n",
       "  </thead>\n",
       "  <tbody>\n",
       "    <tr>\n",
       "      <th>464</th>\n",
       "      <td>0.005333</td>\n",
       "      <td>0.000000</td>\n",
       "      <td>0.758329</td>\n",
       "      <td>0.846362</td>\n",
       "      <td>20</td>\n",
       "      <td>12</td>\n",
       "      <td>30</td>\n",
       "      <td>{u'min_samples_split': 30, u'max_depth': 20, u...</td>\n",
       "      <td>1</td>\n",
       "      <td>0.764049</td>\n",
       "      <td>0.842514</td>\n",
       "      <td>0.747592</td>\n",
       "      <td>0.841600</td>\n",
       "      <td>0.763330</td>\n",
       "      <td>0.854972</td>\n",
       "      <td>0.007542</td>\n",
       "      <td>0.000000</td>\n",
       "      <td>0.007593</td>\n",
       "      <td>0.006100</td>\n",
       "    </tr>\n",
       "    <tr>\n",
       "      <th>341</th>\n",
       "      <td>0.010333</td>\n",
       "      <td>0.000000</td>\n",
       "      <td>0.758227</td>\n",
       "      <td>0.882828</td>\n",
       "      <td>10</td>\n",
       "      <td>10</td>\n",
       "      <td>15</td>\n",
       "      <td>{u'min_samples_split': 15, u'max_depth': 10, u...</td>\n",
       "      <td>2</td>\n",
       "      <td>0.726562</td>\n",
       "      <td>0.892488</td>\n",
       "      <td>0.780184</td>\n",
       "      <td>0.879552</td>\n",
       "      <td>0.768017</td>\n",
       "      <td>0.876444</td>\n",
       "      <td>0.007318</td>\n",
       "      <td>0.000000</td>\n",
       "      <td>0.022963</td>\n",
       "      <td>0.006948</td>\n",
       "    </tr>\n",
       "    <tr>\n",
       "      <th>339</th>\n",
       "      <td>0.005000</td>\n",
       "      <td>0.000000</td>\n",
       "      <td>0.758227</td>\n",
       "      <td>0.882828</td>\n",
       "      <td>10</td>\n",
       "      <td>10</td>\n",
       "      <td>5</td>\n",
       "      <td>{u'min_samples_split': 5, u'max_depth': 10, u'...</td>\n",
       "      <td>2</td>\n",
       "      <td>0.726562</td>\n",
       "      <td>0.892488</td>\n",
       "      <td>0.780184</td>\n",
       "      <td>0.879552</td>\n",
       "      <td>0.768017</td>\n",
       "      <td>0.876444</td>\n",
       "      <td>0.007071</td>\n",
       "      <td>0.000000</td>\n",
       "      <td>0.022963</td>\n",
       "      <td>0.006948</td>\n",
       "    </tr>\n",
       "    <tr>\n",
       "      <th>443</th>\n",
       "      <td>0.005333</td>\n",
       "      <td>0.000000</td>\n",
       "      <td>0.758135</td>\n",
       "      <td>0.882912</td>\n",
       "      <td>20</td>\n",
       "      <td>10</td>\n",
       "      <td>5</td>\n",
       "      <td>{u'min_samples_split': 5, u'max_depth': 20, u'...</td>\n",
       "      <td>4</td>\n",
       "      <td>0.726562</td>\n",
       "      <td>0.892488</td>\n",
       "      <td>0.780184</td>\n",
       "      <td>0.879552</td>\n",
       "      <td>0.767741</td>\n",
       "      <td>0.876697</td>\n",
       "      <td>0.007542</td>\n",
       "      <td>0.000000</td>\n",
       "      <td>0.022924</td>\n",
       "      <td>0.006871</td>\n",
       "    </tr>\n",
       "    <tr>\n",
       "      <th>447</th>\n",
       "      <td>0.005333</td>\n",
       "      <td>0.005333</td>\n",
       "      <td>0.758135</td>\n",
       "      <td>0.882912</td>\n",
       "      <td>20</td>\n",
       "      <td>10</td>\n",
       "      <td>20</td>\n",
       "      <td>{u'min_samples_split': 20, u'max_depth': 20, u...</td>\n",
       "      <td>4</td>\n",
       "      <td>0.726562</td>\n",
       "      <td>0.892488</td>\n",
       "      <td>0.780184</td>\n",
       "      <td>0.879552</td>\n",
       "      <td>0.767741</td>\n",
       "      <td>0.876697</td>\n",
       "      <td>0.007542</td>\n",
       "      <td>0.007542</td>\n",
       "      <td>0.022924</td>\n",
       "      <td>0.006871</td>\n",
       "    </tr>\n",
       "  </tbody>\n",
       "</table>\n",
       "</div>"
      ],
      "text/plain": [
       "     mean_fit_time  mean_score_time  mean_test_score  mean_train_score  \\\n",
       "464       0.005333         0.000000         0.758329          0.846362   \n",
       "341       0.010333         0.000000         0.758227          0.882828   \n",
       "339       0.005000         0.000000         0.758227          0.882828   \n",
       "443       0.005333         0.000000         0.758135          0.882912   \n",
       "447       0.005333         0.005333         0.758135          0.882912   \n",
       "\n",
       "    param_max_depth param_min_samples_leaf param_min_samples_split  \\\n",
       "464              20                     12                      30   \n",
       "341              10                     10                      15   \n",
       "339              10                     10                       5   \n",
       "443              20                     10                       5   \n",
       "447              20                     10                      20   \n",
       "\n",
       "                                                params  rank_test_score  \\\n",
       "464  {u'min_samples_split': 30, u'max_depth': 20, u...                1   \n",
       "341  {u'min_samples_split': 15, u'max_depth': 10, u...                2   \n",
       "339  {u'min_samples_split': 5, u'max_depth': 10, u'...                2   \n",
       "443  {u'min_samples_split': 5, u'max_depth': 20, u'...                4   \n",
       "447  {u'min_samples_split': 20, u'max_depth': 20, u...                4   \n",
       "\n",
       "     split0_test_score  split0_train_score  split1_test_score  \\\n",
       "464           0.764049            0.842514           0.747592   \n",
       "341           0.726562            0.892488           0.780184   \n",
       "339           0.726562            0.892488           0.780184   \n",
       "443           0.726562            0.892488           0.780184   \n",
       "447           0.726562            0.892488           0.780184   \n",
       "\n",
       "     split1_train_score  split2_test_score  split2_train_score  std_fit_time  \\\n",
       "464            0.841600           0.763330            0.854972      0.007542   \n",
       "341            0.879552           0.768017            0.876444      0.007318   \n",
       "339            0.879552           0.768017            0.876444      0.007071   \n",
       "443            0.879552           0.767741            0.876697      0.007542   \n",
       "447            0.879552           0.767741            0.876697      0.007542   \n",
       "\n",
       "     std_score_time  std_test_score  std_train_score  \n",
       "464        0.000000        0.007593         0.006100  \n",
       "341        0.000000        0.022963         0.006948  \n",
       "339        0.000000        0.022963         0.006948  \n",
       "443        0.000000        0.022924         0.006871  \n",
       "447        0.007542        0.022924         0.006871  "
      ]
     },
     "execution_count": 37,
     "metadata": {},
     "output_type": "execute_result"
    }
   ],
   "source": [
    "GS_results.head()"
   ]
  },
  {
   "cell_type": "code",
   "execution_count": 38,
   "metadata": {
    "collapsed": false
   },
   "outputs": [
    {
     "data": {
      "text/plain": [
       "0.7436876946701767"
      ]
     },
     "execution_count": 38,
     "metadata": {},
     "output_type": "execute_result"
    }
   ],
   "source": [
    "clf.score(X_test, y_test)"
   ]
  },
  {
   "cell_type": "code",
   "execution_count": 39,
   "metadata": {
    "collapsed": false
   },
   "outputs": [
    {
     "name": "stdout",
     "output_type": "stream",
     "text": [
      "1459\n",
      "1459\n",
      "          SalePrice\n",
      "Id                 \n",
      "1461  133083.315789\n",
      "1462  158894.642857\n",
      "1463  189416.000000\n",
      "1464  196796.875000\n",
      "1465  202730.769231\n"
     ]
    }
   ],
   "source": [
    "DTR = clf.predict(numeric_test_features)\n",
    "print len(DTRegressor)\n",
    "test_id = test.Id\n",
    "print len(test_id)\n",
    "DTR_submission = pd.DataFrame(data=DTR, index=test_id, columns=['SalePrice'])\n",
    "print DTR_submission.head()\n",
    "DTR_submission.to_csv('DTR_submission4.csv')"
   ]
  },
  {
   "cell_type": "code",
   "execution_count": 40,
   "metadata": {
    "collapsed": true
   },
   "outputs": [],
   "source": [
    "# The decision tree with the hypertuned parameters increased my score by 188 positions (0.03 decrease in \n",
    "# the root mean squared error of my predictions)."
   ]
  },
  {
   "cell_type": "code",
   "execution_count": 41,
   "metadata": {
    "collapsed": false
   },
   "outputs": [],
   "source": [
    "categorical_variables = features.select_dtypes(include= ['object'])"
   ]
  },
  {
   "cell_type": "code",
   "execution_count": 42,
   "metadata": {
    "collapsed": false
   },
   "outputs": [
    {
     "data": {
      "text/html": [
       "<div>\n",
       "<table border=\"1\" class=\"dataframe\">\n",
       "  <thead>\n",
       "    <tr style=\"text-align: right;\">\n",
       "      <th></th>\n",
       "      <th>MSZoning</th>\n",
       "      <th>Street</th>\n",
       "      <th>LotShape</th>\n",
       "      <th>LandContour</th>\n",
       "      <th>Utilities</th>\n",
       "      <th>LotConfig</th>\n",
       "      <th>LandSlope</th>\n",
       "      <th>Neighborhood</th>\n",
       "      <th>Condition1</th>\n",
       "      <th>Condition2</th>\n",
       "      <th>...</th>\n",
       "      <th>BsmtFinType2</th>\n",
       "      <th>Heating</th>\n",
       "      <th>HeatingQC</th>\n",
       "      <th>CentralAir</th>\n",
       "      <th>Electrical</th>\n",
       "      <th>KitchenQual</th>\n",
       "      <th>Functional</th>\n",
       "      <th>PavedDrive</th>\n",
       "      <th>SaleType</th>\n",
       "      <th>SaleCondition</th>\n",
       "    </tr>\n",
       "  </thead>\n",
       "  <tbody>\n",
       "    <tr>\n",
       "      <th>0</th>\n",
       "      <td>RL</td>\n",
       "      <td>Pave</td>\n",
       "      <td>Reg</td>\n",
       "      <td>Lvl</td>\n",
       "      <td>AllPub</td>\n",
       "      <td>Inside</td>\n",
       "      <td>Gtl</td>\n",
       "      <td>CollgCr</td>\n",
       "      <td>Norm</td>\n",
       "      <td>Norm</td>\n",
       "      <td>...</td>\n",
       "      <td>Unf</td>\n",
       "      <td>GasA</td>\n",
       "      <td>Ex</td>\n",
       "      <td>Y</td>\n",
       "      <td>SBrkr</td>\n",
       "      <td>Gd</td>\n",
       "      <td>Typ</td>\n",
       "      <td>Y</td>\n",
       "      <td>WD</td>\n",
       "      <td>Normal</td>\n",
       "    </tr>\n",
       "    <tr>\n",
       "      <th>1</th>\n",
       "      <td>RL</td>\n",
       "      <td>Pave</td>\n",
       "      <td>Reg</td>\n",
       "      <td>Lvl</td>\n",
       "      <td>AllPub</td>\n",
       "      <td>FR2</td>\n",
       "      <td>Gtl</td>\n",
       "      <td>Veenker</td>\n",
       "      <td>Feedr</td>\n",
       "      <td>Norm</td>\n",
       "      <td>...</td>\n",
       "      <td>Unf</td>\n",
       "      <td>GasA</td>\n",
       "      <td>Ex</td>\n",
       "      <td>Y</td>\n",
       "      <td>SBrkr</td>\n",
       "      <td>TA</td>\n",
       "      <td>Typ</td>\n",
       "      <td>Y</td>\n",
       "      <td>WD</td>\n",
       "      <td>Normal</td>\n",
       "    </tr>\n",
       "    <tr>\n",
       "      <th>2</th>\n",
       "      <td>RL</td>\n",
       "      <td>Pave</td>\n",
       "      <td>IR1</td>\n",
       "      <td>Lvl</td>\n",
       "      <td>AllPub</td>\n",
       "      <td>Inside</td>\n",
       "      <td>Gtl</td>\n",
       "      <td>CollgCr</td>\n",
       "      <td>Norm</td>\n",
       "      <td>Norm</td>\n",
       "      <td>...</td>\n",
       "      <td>Unf</td>\n",
       "      <td>GasA</td>\n",
       "      <td>Ex</td>\n",
       "      <td>Y</td>\n",
       "      <td>SBrkr</td>\n",
       "      <td>Gd</td>\n",
       "      <td>Typ</td>\n",
       "      <td>Y</td>\n",
       "      <td>WD</td>\n",
       "      <td>Normal</td>\n",
       "    </tr>\n",
       "    <tr>\n",
       "      <th>3</th>\n",
       "      <td>RL</td>\n",
       "      <td>Pave</td>\n",
       "      <td>IR1</td>\n",
       "      <td>Lvl</td>\n",
       "      <td>AllPub</td>\n",
       "      <td>Corner</td>\n",
       "      <td>Gtl</td>\n",
       "      <td>Crawfor</td>\n",
       "      <td>Norm</td>\n",
       "      <td>Norm</td>\n",
       "      <td>...</td>\n",
       "      <td>Unf</td>\n",
       "      <td>GasA</td>\n",
       "      <td>Gd</td>\n",
       "      <td>Y</td>\n",
       "      <td>SBrkr</td>\n",
       "      <td>Gd</td>\n",
       "      <td>Typ</td>\n",
       "      <td>Y</td>\n",
       "      <td>WD</td>\n",
       "      <td>Abnorml</td>\n",
       "    </tr>\n",
       "    <tr>\n",
       "      <th>4</th>\n",
       "      <td>RL</td>\n",
       "      <td>Pave</td>\n",
       "      <td>IR1</td>\n",
       "      <td>Lvl</td>\n",
       "      <td>AllPub</td>\n",
       "      <td>FR2</td>\n",
       "      <td>Gtl</td>\n",
       "      <td>NoRidge</td>\n",
       "      <td>Norm</td>\n",
       "      <td>Norm</td>\n",
       "      <td>...</td>\n",
       "      <td>Unf</td>\n",
       "      <td>GasA</td>\n",
       "      <td>Ex</td>\n",
       "      <td>Y</td>\n",
       "      <td>SBrkr</td>\n",
       "      <td>Gd</td>\n",
       "      <td>Typ</td>\n",
       "      <td>Y</td>\n",
       "      <td>WD</td>\n",
       "      <td>Normal</td>\n",
       "    </tr>\n",
       "  </tbody>\n",
       "</table>\n",
       "<p>5 rows × 34 columns</p>\n",
       "</div>"
      ],
      "text/plain": [
       "  MSZoning Street LotShape LandContour Utilities LotConfig LandSlope  \\\n",
       "0       RL   Pave      Reg         Lvl    AllPub    Inside       Gtl   \n",
       "1       RL   Pave      Reg         Lvl    AllPub       FR2       Gtl   \n",
       "2       RL   Pave      IR1         Lvl    AllPub    Inside       Gtl   \n",
       "3       RL   Pave      IR1         Lvl    AllPub    Corner       Gtl   \n",
       "4       RL   Pave      IR1         Lvl    AllPub       FR2       Gtl   \n",
       "\n",
       "  Neighborhood Condition1 Condition2      ...      BsmtFinType2 Heating  \\\n",
       "0      CollgCr       Norm       Norm      ...               Unf    GasA   \n",
       "1      Veenker      Feedr       Norm      ...               Unf    GasA   \n",
       "2      CollgCr       Norm       Norm      ...               Unf    GasA   \n",
       "3      Crawfor       Norm       Norm      ...               Unf    GasA   \n",
       "4      NoRidge       Norm       Norm      ...               Unf    GasA   \n",
       "\n",
       "  HeatingQC CentralAir Electrical KitchenQual Functional PavedDrive SaleType  \\\n",
       "0        Ex          Y      SBrkr          Gd        Typ          Y       WD   \n",
       "1        Ex          Y      SBrkr          TA        Typ          Y       WD   \n",
       "2        Ex          Y      SBrkr          Gd        Typ          Y       WD   \n",
       "3        Gd          Y      SBrkr          Gd        Typ          Y       WD   \n",
       "4        Ex          Y      SBrkr          Gd        Typ          Y       WD   \n",
       "\n",
       "  SaleCondition  \n",
       "0        Normal  \n",
       "1        Normal  \n",
       "2        Normal  \n",
       "3       Abnorml  \n",
       "4        Normal  \n",
       "\n",
       "[5 rows x 34 columns]"
      ]
     },
     "execution_count": 42,
     "metadata": {},
     "output_type": "execute_result"
    }
   ],
   "source": [
    "categorical_variables.head()"
   ]
  },
  {
   "cell_type": "code",
   "execution_count": 43,
   "metadata": {
    "collapsed": true
   },
   "outputs": [],
   "source": [
    "from sklearn.preprocessing import LabelEncoder\n",
    "from sklearn.preprocessing import OneHotEncoder\n",
    "le = LabelEncoder()\n",
    "categorical_encoded = categorical_variables.apply(le.fit_transform)\n"
   ]
  },
  {
   "cell_type": "code",
   "execution_count": 44,
   "metadata": {
    "collapsed": false
   },
   "outputs": [
    {
     "data": {
      "text/plain": [
       "DecisionTreeRegressor(criterion='mse', max_depth=None, max_features=None,\n",
       "           max_leaf_nodes=None, min_impurity_split=1e-07,\n",
       "           min_samples_leaf=1, min_samples_split=2,\n",
       "           min_weight_fraction_leaf=0.0, presort=False, random_state=None,\n",
       "           splitter='best')"
      ]
     },
     "execution_count": 44,
     "metadata": {},
     "output_type": "execute_result"
    }
   ],
   "source": [
    "cat_reg = DecisionTreeRegressor()\n",
    "cat_reg.fit(categorical_encoded, target)"
   ]
  },
  {
   "cell_type": "code",
   "execution_count": 45,
   "metadata": {
    "collapsed": false,
    "scrolled": false
   },
   "outputs": [
    {
     "name": "stderr",
     "output_type": "stream",
     "text": [
      "C:\\Users\\jmaxi.LSUMC-MASTER\\AppData\\Local\\Continuum\\Anaconda\\lib\\site-packages\\numpy\\lib\\arraysetops.py:200: FutureWarning: numpy not_equal will not check object identity in the future. The comparison did not return the same result as suggested by the identity (`is`)) and will change.\n",
      "  flag = np.concatenate(([True], aux[1:] != aux[:-1]))\n"
     ]
    },
    {
     "data": {
      "text/html": [
       "<div>\n",
       "<table border=\"1\" class=\"dataframe\">\n",
       "  <thead>\n",
       "    <tr style=\"text-align: right;\">\n",
       "      <th></th>\n",
       "      <th>MSZoning</th>\n",
       "      <th>Street</th>\n",
       "      <th>LotShape</th>\n",
       "      <th>LandContour</th>\n",
       "      <th>Utilities</th>\n",
       "      <th>LotConfig</th>\n",
       "      <th>LandSlope</th>\n",
       "      <th>Neighborhood</th>\n",
       "      <th>Condition1</th>\n",
       "      <th>Condition2</th>\n",
       "      <th>...</th>\n",
       "      <th>BsmtFinType2</th>\n",
       "      <th>Heating</th>\n",
       "      <th>HeatingQC</th>\n",
       "      <th>CentralAir</th>\n",
       "      <th>Electrical</th>\n",
       "      <th>KitchenQual</th>\n",
       "      <th>Functional</th>\n",
       "      <th>PavedDrive</th>\n",
       "      <th>SaleType</th>\n",
       "      <th>SaleCondition</th>\n",
       "    </tr>\n",
       "  </thead>\n",
       "  <tbody>\n",
       "    <tr>\n",
       "      <th>0</th>\n",
       "      <td>3</td>\n",
       "      <td>1</td>\n",
       "      <td>3</td>\n",
       "      <td>3</td>\n",
       "      <td>1</td>\n",
       "      <td>4</td>\n",
       "      <td>0</td>\n",
       "      <td>12</td>\n",
       "      <td>1</td>\n",
       "      <td>2</td>\n",
       "      <td>...</td>\n",
       "      <td>4</td>\n",
       "      <td>0</td>\n",
       "      <td>4</td>\n",
       "      <td>1</td>\n",
       "      <td>3</td>\n",
       "      <td>4</td>\n",
       "      <td>7</td>\n",
       "      <td>2</td>\n",
       "      <td>9</td>\n",
       "      <td>4</td>\n",
       "    </tr>\n",
       "    <tr>\n",
       "      <th>1</th>\n",
       "      <td>4</td>\n",
       "      <td>1</td>\n",
       "      <td>0</td>\n",
       "      <td>3</td>\n",
       "      <td>1</td>\n",
       "      <td>0</td>\n",
       "      <td>0</td>\n",
       "      <td>12</td>\n",
       "      <td>2</td>\n",
       "      <td>2</td>\n",
       "      <td>...</td>\n",
       "      <td>6</td>\n",
       "      <td>0</td>\n",
       "      <td>4</td>\n",
       "      <td>1</td>\n",
       "      <td>3</td>\n",
       "      <td>3</td>\n",
       "      <td>7</td>\n",
       "      <td>2</td>\n",
       "      <td>9</td>\n",
       "      <td>4</td>\n",
       "    </tr>\n",
       "    <tr>\n",
       "      <th>2</th>\n",
       "      <td>4</td>\n",
       "      <td>1</td>\n",
       "      <td>0</td>\n",
       "      <td>3</td>\n",
       "      <td>1</td>\n",
       "      <td>4</td>\n",
       "      <td>0</td>\n",
       "      <td>8</td>\n",
       "      <td>2</td>\n",
       "      <td>2</td>\n",
       "      <td>...</td>\n",
       "      <td>6</td>\n",
       "      <td>0</td>\n",
       "      <td>2</td>\n",
       "      <td>1</td>\n",
       "      <td>3</td>\n",
       "      <td>4</td>\n",
       "      <td>7</td>\n",
       "      <td>2</td>\n",
       "      <td>9</td>\n",
       "      <td>4</td>\n",
       "    </tr>\n",
       "    <tr>\n",
       "      <th>3</th>\n",
       "      <td>4</td>\n",
       "      <td>1</td>\n",
       "      <td>0</td>\n",
       "      <td>3</td>\n",
       "      <td>1</td>\n",
       "      <td>4</td>\n",
       "      <td>0</td>\n",
       "      <td>8</td>\n",
       "      <td>2</td>\n",
       "      <td>2</td>\n",
       "      <td>...</td>\n",
       "      <td>6</td>\n",
       "      <td>0</td>\n",
       "      <td>0</td>\n",
       "      <td>1</td>\n",
       "      <td>3</td>\n",
       "      <td>3</td>\n",
       "      <td>7</td>\n",
       "      <td>2</td>\n",
       "      <td>9</td>\n",
       "      <td>4</td>\n",
       "    </tr>\n",
       "    <tr>\n",
       "      <th>4</th>\n",
       "      <td>4</td>\n",
       "      <td>1</td>\n",
       "      <td>0</td>\n",
       "      <td>1</td>\n",
       "      <td>1</td>\n",
       "      <td>4</td>\n",
       "      <td>0</td>\n",
       "      <td>22</td>\n",
       "      <td>2</td>\n",
       "      <td>2</td>\n",
       "      <td>...</td>\n",
       "      <td>6</td>\n",
       "      <td>0</td>\n",
       "      <td>0</td>\n",
       "      <td>1</td>\n",
       "      <td>3</td>\n",
       "      <td>3</td>\n",
       "      <td>7</td>\n",
       "      <td>2</td>\n",
       "      <td>9</td>\n",
       "      <td>4</td>\n",
       "    </tr>\n",
       "  </tbody>\n",
       "</table>\n",
       "<p>5 rows × 34 columns</p>\n",
       "</div>"
      ],
      "text/plain": [
       "   MSZoning  Street  LotShape  LandContour  Utilities  LotConfig  LandSlope  \\\n",
       "0         3       1         3            3          1          4          0   \n",
       "1         4       1         0            3          1          0          0   \n",
       "2         4       1         0            3          1          4          0   \n",
       "3         4       1         0            3          1          4          0   \n",
       "4         4       1         0            1          1          4          0   \n",
       "\n",
       "   Neighborhood  Condition1  Condition2      ...        BsmtFinType2  Heating  \\\n",
       "0            12           1           2      ...                   4        0   \n",
       "1            12           2           2      ...                   6        0   \n",
       "2             8           2           2      ...                   6        0   \n",
       "3             8           2           2      ...                   6        0   \n",
       "4            22           2           2      ...                   6        0   \n",
       "\n",
       "   HeatingQC  CentralAir  Electrical  KitchenQual  Functional  PavedDrive  \\\n",
       "0          4           1           3            4           7           2   \n",
       "1          4           1           3            3           7           2   \n",
       "2          2           1           3            4           7           2   \n",
       "3          0           1           3            3           7           2   \n",
       "4          0           1           3            3           7           2   \n",
       "\n",
       "   SaleType  SaleCondition  \n",
       "0         9              4  \n",
       "1         9              4  \n",
       "2         9              4  \n",
       "3         9              4  \n",
       "4         9              4  \n",
       "\n",
       "[5 rows x 34 columns]"
      ]
     },
     "execution_count": 45,
     "metadata": {},
     "output_type": "execute_result"
    }
   ],
   "source": [
    "numeric_categorical_test = test.select_dtypes(['object'])\n",
    "numeric_categorical_test = numeric_categorical_test.apply(le.fit_transform)\n",
    "numeric_categorical_test.head()"
   ]
  },
  {
   "cell_type": "code",
   "execution_count": 46,
   "metadata": {
    "collapsed": false
   },
   "outputs": [
    {
     "name": "stdout",
     "output_type": "stream",
     "text": [
      "1459\n",
      "1459\n",
      "      SalePrice\n",
      "Id             \n",
      "1461   128000.0\n",
      "1462   110500.0\n",
      "1463   145000.0\n",
      "1464   140000.0\n",
      "1465    93000.0\n"
     ]
    }
   ],
   "source": [
    "DTR = cat_reg.predict(numeric_categorical_test)\n",
    "print len(DTRegressor)\n",
    "test_id = test.Id\n",
    "print len(test_id)\n",
    "DTR_submission = pd.DataFrame(data=DTR, index=test_id, columns=['SalePrice'])\n",
    "print DTR_submission.head()\n",
    "DTR_submission.to_csv('DTR_submission5.csv')\n",
    "# submission score of 0.39 - pretty bad!"
   ]
  },
  {
   "cell_type": "code",
   "execution_count": 47,
   "metadata": {
    "collapsed": false
   },
   "outputs": [],
   "source": [
    "def make_submission(test_data, test_data_index, predictor, k):\n",
    "    '''\n",
    "    test_data = a pandas dataframe containing the test data\n",
    "    predictor = a trained classifier\n",
    "    k = the number of the entry. Used to keep older entries from being overwritten\n",
    "    output: writes a csv file to the current directory'''\n",
    "    predictions = predictor.predict(test_data)\n",
    "    test_id = test_data_index\n",
    "    submission = pd.DataFrame(data=predictions, index=test_id, columns=['SalePrice'])\n",
    "    print submission.head()\n",
    "    submission.to_csv('DTR_submission{}.csv'.format(k))"
   ]
  },
  {
   "cell_type": "code",
   "execution_count": 48,
   "metadata": {
    "collapsed": false
   },
   "outputs": [
    {
     "name": "stdout",
     "output_type": "stream",
     "text": [
      "      SalePrice\n",
      "Id             \n",
      "1461   128000.0\n",
      "1462   110500.0\n",
      "1463   145000.0\n",
      "1464   140000.0\n",
      "1465    93000.0\n"
     ]
    }
   ],
   "source": [
    "make_submission(numeric_categorical_test, test.Id, cat_reg, 6)"
   ]
  },
  {
   "cell_type": "code",
   "execution_count": 49,
   "metadata": {
    "collapsed": false
   },
   "outputs": [
    {
     "data": {
      "text/html": [
       "<div>\n",
       "<table border=\"1\" class=\"dataframe\">\n",
       "  <thead>\n",
       "    <tr style=\"text-align: right;\">\n",
       "      <th></th>\n",
       "      <th>MSZoning</th>\n",
       "      <th>Street</th>\n",
       "      <th>LotShape</th>\n",
       "      <th>LandContour</th>\n",
       "      <th>Utilities</th>\n",
       "      <th>LotConfig</th>\n",
       "      <th>LandSlope</th>\n",
       "      <th>Neighborhood</th>\n",
       "      <th>Condition1</th>\n",
       "      <th>Condition2</th>\n",
       "      <th>...</th>\n",
       "      <th>GarageArea</th>\n",
       "      <th>WoodDeckSF</th>\n",
       "      <th>OpenPorchSF</th>\n",
       "      <th>EnclosedPorch</th>\n",
       "      <th>3SsnPorch</th>\n",
       "      <th>ScreenPorch</th>\n",
       "      <th>PoolArea</th>\n",
       "      <th>MiscVal</th>\n",
       "      <th>MoSold</th>\n",
       "      <th>YrSold</th>\n",
       "    </tr>\n",
       "  </thead>\n",
       "  <tbody>\n",
       "    <tr>\n",
       "      <th>0</th>\n",
       "      <td>3</td>\n",
       "      <td>1</td>\n",
       "      <td>3</td>\n",
       "      <td>3</td>\n",
       "      <td>0</td>\n",
       "      <td>4</td>\n",
       "      <td>0</td>\n",
       "      <td>5</td>\n",
       "      <td>2</td>\n",
       "      <td>2</td>\n",
       "      <td>...</td>\n",
       "      <td>548</td>\n",
       "      <td>0</td>\n",
       "      <td>61</td>\n",
       "      <td>0</td>\n",
       "      <td>0</td>\n",
       "      <td>0</td>\n",
       "      <td>0</td>\n",
       "      <td>0</td>\n",
       "      <td>2</td>\n",
       "      <td>2008</td>\n",
       "    </tr>\n",
       "    <tr>\n",
       "      <th>1</th>\n",
       "      <td>3</td>\n",
       "      <td>1</td>\n",
       "      <td>3</td>\n",
       "      <td>3</td>\n",
       "      <td>0</td>\n",
       "      <td>2</td>\n",
       "      <td>0</td>\n",
       "      <td>24</td>\n",
       "      <td>1</td>\n",
       "      <td>2</td>\n",
       "      <td>...</td>\n",
       "      <td>460</td>\n",
       "      <td>298</td>\n",
       "      <td>0</td>\n",
       "      <td>0</td>\n",
       "      <td>0</td>\n",
       "      <td>0</td>\n",
       "      <td>0</td>\n",
       "      <td>0</td>\n",
       "      <td>5</td>\n",
       "      <td>2007</td>\n",
       "    </tr>\n",
       "    <tr>\n",
       "      <th>2</th>\n",
       "      <td>3</td>\n",
       "      <td>1</td>\n",
       "      <td>0</td>\n",
       "      <td>3</td>\n",
       "      <td>0</td>\n",
       "      <td>4</td>\n",
       "      <td>0</td>\n",
       "      <td>5</td>\n",
       "      <td>2</td>\n",
       "      <td>2</td>\n",
       "      <td>...</td>\n",
       "      <td>608</td>\n",
       "      <td>0</td>\n",
       "      <td>42</td>\n",
       "      <td>0</td>\n",
       "      <td>0</td>\n",
       "      <td>0</td>\n",
       "      <td>0</td>\n",
       "      <td>0</td>\n",
       "      <td>9</td>\n",
       "      <td>2008</td>\n",
       "    </tr>\n",
       "    <tr>\n",
       "      <th>3</th>\n",
       "      <td>3</td>\n",
       "      <td>1</td>\n",
       "      <td>0</td>\n",
       "      <td>3</td>\n",
       "      <td>0</td>\n",
       "      <td>0</td>\n",
       "      <td>0</td>\n",
       "      <td>6</td>\n",
       "      <td>2</td>\n",
       "      <td>2</td>\n",
       "      <td>...</td>\n",
       "      <td>642</td>\n",
       "      <td>0</td>\n",
       "      <td>35</td>\n",
       "      <td>272</td>\n",
       "      <td>0</td>\n",
       "      <td>0</td>\n",
       "      <td>0</td>\n",
       "      <td>0</td>\n",
       "      <td>2</td>\n",
       "      <td>2006</td>\n",
       "    </tr>\n",
       "    <tr>\n",
       "      <th>4</th>\n",
       "      <td>3</td>\n",
       "      <td>1</td>\n",
       "      <td>0</td>\n",
       "      <td>3</td>\n",
       "      <td>0</td>\n",
       "      <td>2</td>\n",
       "      <td>0</td>\n",
       "      <td>15</td>\n",
       "      <td>2</td>\n",
       "      <td>2</td>\n",
       "      <td>...</td>\n",
       "      <td>836</td>\n",
       "      <td>192</td>\n",
       "      <td>84</td>\n",
       "      <td>0</td>\n",
       "      <td>0</td>\n",
       "      <td>0</td>\n",
       "      <td>0</td>\n",
       "      <td>0</td>\n",
       "      <td>12</td>\n",
       "      <td>2008</td>\n",
       "    </tr>\n",
       "  </tbody>\n",
       "</table>\n",
       "<p>5 rows × 69 columns</p>\n",
       "</div>"
      ],
      "text/plain": [
       "   MSZoning  Street  LotShape  LandContour  Utilities  LotConfig  LandSlope  \\\n",
       "0         3       1         3            3          0          4          0   \n",
       "1         3       1         3            3          0          2          0   \n",
       "2         3       1         0            3          0          4          0   \n",
       "3         3       1         0            3          0          0          0   \n",
       "4         3       1         0            3          0          2          0   \n",
       "\n",
       "   Neighborhood  Condition1  Condition2   ...    GarageArea  WoodDeckSF  \\\n",
       "0             5           2           2   ...           548           0   \n",
       "1            24           1           2   ...           460         298   \n",
       "2             5           2           2   ...           608           0   \n",
       "3             6           2           2   ...           642           0   \n",
       "4            15           2           2   ...           836         192   \n",
       "\n",
       "   OpenPorchSF  EnclosedPorch  3SsnPorch  ScreenPorch  PoolArea  MiscVal  \\\n",
       "0           61              0          0            0         0        0   \n",
       "1            0              0          0            0         0        0   \n",
       "2           42              0          0            0         0        0   \n",
       "3           35            272          0            0         0        0   \n",
       "4           84              0          0            0         0        0   \n",
       "\n",
       "   MoSold  YrSold  \n",
       "0       2    2008  \n",
       "1       5    2007  \n",
       "2       9    2008  \n",
       "3       2    2006  \n",
       "4      12    2008  \n",
       "\n",
       "[5 rows x 69 columns]"
      ]
     },
     "execution_count": 49,
     "metadata": {},
     "output_type": "execute_result"
    }
   ],
   "source": [
    "# concatenate the categorical_encoded and the numeric_features dataframes\n",
    "all_features = pd.concat([categorical_encoded, numeric_features], axis=1)\n",
    "all_features.head()"
   ]
  },
  {
   "cell_type": "code",
   "execution_count": 50,
   "metadata": {
    "collapsed": false
   },
   "outputs": [
    {
     "name": "stdout",
     "output_type": "stream",
     "text": [
      "0.760107996644\n",
      "{'min_samples_split': 30, 'max_depth': 10, 'min_samples_leaf': 1}\n",
      "0.69909607094\n",
      "          SalePrice\n",
      "Id                 \n",
      "1461  114774.718750\n",
      "1462  157979.545455\n",
      "1463  194477.272727\n",
      "1464  194477.272727\n",
      "1465  203257.142857\n"
     ]
    }
   ],
   "source": [
    "X_train, X_test, y_train, y_test = train_test_split(all_features, target, test_size = 0.2, random_state=0)\n",
    "reg = DecisionTreeRegressor()\n",
    "clf = GridSearchCV(reg, parameters)\n",
    "clf.fit(X_train, y_train)\n",
    "print clf.best_score_\n",
    "print clf.best_params_\n",
    "print clf.score(X_test, y_test)\n",
    "all_features_test = pd.concat([numeric_categorical_test, numeric_test_features], axis=1)\n",
    "make_submission(all_features_test, test.Id, clf, 6)\n",
    "# these predictions are worse than the hypertuned submission using only the numeric features (submission 4)\n",
    "# this is not what I was expecting because this model gave higher scores on the hold-out set duing the \n",
    "# GridSearchCV and gave a better score on the held out test data"
   ]
  },
  {
   "cell_type": "code",
   "execution_count": null,
   "metadata": {
    "collapsed": true
   },
   "outputs": [],
   "source": [
    "# I think the next thing to do is clean up this notebook and then go through the categorical variables to determine\n",
    "# which are ordinal and which are not, determine how to replace eadh variable type and then use one hot encoding on\n",
    "# the non-ordinal categorical variables and label encoding on the ordinal ones"
   ]
  }
 ],
 "metadata": {
  "kernelspec": {
   "display_name": "Python 2",
   "language": "python",
   "name": "python2"
  },
  "language_info": {
   "codemirror_mode": {
    "name": "ipython",
    "version": 2
   },
   "file_extension": ".py",
   "mimetype": "text/x-python",
   "name": "python",
   "nbconvert_exporter": "python",
   "pygments_lexer": "ipython2",
   "version": "2.7.12"
  }
 },
 "nbformat": 4,
 "nbformat_minor": 0
}
